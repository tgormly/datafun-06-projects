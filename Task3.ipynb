{
 "cells": [
  {
   "attachments": {},
   "cell_type": "markdown",
   "metadata": {},
   "source": [
    "# 2022-2024 NHL Games\n",
    "\n",
    "<hr>\n",
    "\n",
    "## Task 3 - Exploratory Data Project\n",
    "#### Tim Gormly\n",
    "#### 2/18/2023\n",
    "\n",
    "<hr>\n",
    "\n",
    "<br>\n",
    "In this notebook, we will look at statistics surround the games played in the 2022-2023 NHL season.  This dataset is made available by www.hockey-reference.com.  This data can be found here: https://www.hockey-reference.com/leagues/NHL_2023_games.html.\n",
    "<br>\n",
    "<br>\n",
    "\n",
    "<hr>\n",
    "\n",
    "\n",
    "\n",
    "## 1. Load the Data\n",
    "\n",
    "To begin, we will import Pandas and use csv_read() to load this our NHL game data into a DataFrame."
   ]
  },
  {
   "cell_type": "code",
   "execution_count": 116,
   "metadata": {},
   "outputs": [],
   "source": [
    "import numpy as np\n",
    "import pandas as pd\n",
    "\n",
    "pd.set_option(\"display.precision\", 2)\n",
    "\n",
    "df = pd.read_csv('22-23_games.csv')"
   ]
  },
  {
   "attachments": {},
   "cell_type": "markdown",
   "metadata": {},
   "source": [
    "<hr>\n",
    "\n",
    "## 2. View the Data\n",
    "\n",
    "Let's take a look at the data we're working with."
   ]
  },
  {
   "cell_type": "code",
   "execution_count": 117,
   "metadata": {},
   "outputs": [
    {
     "data": {
      "text/html": [
       "<div>\n",
       "<style scoped>\n",
       "    .dataframe tbody tr th:only-of-type {\n",
       "        vertical-align: middle;\n",
       "    }\n",
       "\n",
       "    .dataframe tbody tr th {\n",
       "        vertical-align: top;\n",
       "    }\n",
       "\n",
       "    .dataframe thead th {\n",
       "        text-align: right;\n",
       "    }\n",
       "</style>\n",
       "<table border=\"1\" class=\"dataframe\">\n",
       "  <thead>\n",
       "    <tr style=\"text-align: right;\">\n",
       "      <th></th>\n",
       "      <th>Date</th>\n",
       "      <th>Visitor</th>\n",
       "      <th>G</th>\n",
       "      <th>Home</th>\n",
       "      <th>G.1</th>\n",
       "      <th>Decision</th>\n",
       "      <th>Att.</th>\n",
       "      <th>LOG</th>\n",
       "      <th>Notes</th>\n",
       "    </tr>\n",
       "  </thead>\n",
       "  <tbody>\n",
       "    <tr>\n",
       "      <th>0</th>\n",
       "      <td>2022-10-07</td>\n",
       "      <td>San Jose Sharks</td>\n",
       "      <td>1.0</td>\n",
       "      <td>Nashville Predators</td>\n",
       "      <td>4.0</td>\n",
       "      <td>NaN</td>\n",
       "      <td>16648.0</td>\n",
       "      <td>2:43</td>\n",
       "      <td>at (Prague CZ)</td>\n",
       "    </tr>\n",
       "    <tr>\n",
       "      <th>1</th>\n",
       "      <td>2022-10-08</td>\n",
       "      <td>Nashville Predators</td>\n",
       "      <td>3.0</td>\n",
       "      <td>San Jose Sharks</td>\n",
       "      <td>2.0</td>\n",
       "      <td>NaN</td>\n",
       "      <td>17023.0</td>\n",
       "      <td>2:33</td>\n",
       "      <td>at (Prague CZ)</td>\n",
       "    </tr>\n",
       "    <tr>\n",
       "      <th>2</th>\n",
       "      <td>2022-10-11</td>\n",
       "      <td>Vegas Golden Knights</td>\n",
       "      <td>4.0</td>\n",
       "      <td>Los Angeles Kings</td>\n",
       "      <td>3.0</td>\n",
       "      <td>NaN</td>\n",
       "      <td>18230.0</td>\n",
       "      <td>2:31</td>\n",
       "      <td>NaN</td>\n",
       "    </tr>\n",
       "    <tr>\n",
       "      <th>3</th>\n",
       "      <td>2022-10-11</td>\n",
       "      <td>Tampa Bay Lightning</td>\n",
       "      <td>1.0</td>\n",
       "      <td>New York Rangers</td>\n",
       "      <td>3.0</td>\n",
       "      <td>NaN</td>\n",
       "      <td>18006.0</td>\n",
       "      <td>2:21</td>\n",
       "      <td>NaN</td>\n",
       "    </tr>\n",
       "    <tr>\n",
       "      <th>4</th>\n",
       "      <td>2022-10-12</td>\n",
       "      <td>Seattle Kraken</td>\n",
       "      <td>4.0</td>\n",
       "      <td>Anaheim Ducks</td>\n",
       "      <td>5.0</td>\n",
       "      <td>OT</td>\n",
       "      <td>17530.0</td>\n",
       "      <td>2:28</td>\n",
       "      <td>NaN</td>\n",
       "    </tr>\n",
       "  </tbody>\n",
       "</table>\n",
       "</div>"
      ],
      "text/plain": [
       "         Date               Visitor    G                 Home  G.1 Decision  \\\n",
       "0  2022-10-07       San Jose Sharks  1.0  Nashville Predators  4.0      NaN   \n",
       "1  2022-10-08   Nashville Predators  3.0      San Jose Sharks  2.0      NaN   \n",
       "2  2022-10-11  Vegas Golden Knights  4.0    Los Angeles Kings  3.0      NaN   \n",
       "3  2022-10-11   Tampa Bay Lightning  1.0     New York Rangers  3.0      NaN   \n",
       "4  2022-10-12        Seattle Kraken  4.0        Anaheim Ducks  5.0       OT   \n",
       "\n",
       "      Att.   LOG           Notes  \n",
       "0  16648.0  2:43  at (Prague CZ)  \n",
       "1  17023.0  2:33  at (Prague CZ)  \n",
       "2  18230.0  2:31             NaN  \n",
       "3  18006.0  2:21             NaN  \n",
       "4  17530.0  2:28             NaN  "
      ]
     },
     "execution_count": 117,
     "metadata": {},
     "output_type": "execute_result"
    }
   ],
   "source": [
    "df.head()"
   ]
  },
  {
   "cell_type": "code",
   "execution_count": 118,
   "metadata": {},
   "outputs": [
    {
     "data": {
      "text/html": [
       "<div>\n",
       "<style scoped>\n",
       "    .dataframe tbody tr th:only-of-type {\n",
       "        vertical-align: middle;\n",
       "    }\n",
       "\n",
       "    .dataframe tbody tr th {\n",
       "        vertical-align: top;\n",
       "    }\n",
       "\n",
       "    .dataframe thead th {\n",
       "        text-align: right;\n",
       "    }\n",
       "</style>\n",
       "<table border=\"1\" class=\"dataframe\">\n",
       "  <thead>\n",
       "    <tr style=\"text-align: right;\">\n",
       "      <th></th>\n",
       "      <th>Date</th>\n",
       "      <th>Visitor</th>\n",
       "      <th>G</th>\n",
       "      <th>Home</th>\n",
       "      <th>G.1</th>\n",
       "      <th>Decision</th>\n",
       "      <th>Att.</th>\n",
       "      <th>LOG</th>\n",
       "      <th>Notes</th>\n",
       "    </tr>\n",
       "  </thead>\n",
       "  <tbody>\n",
       "    <tr>\n",
       "      <th>1307</th>\n",
       "      <td>2023-04-13</td>\n",
       "      <td>Vegas Golden Knights</td>\n",
       "      <td>NaN</td>\n",
       "      <td>Seattle Kraken</td>\n",
       "      <td>NaN</td>\n",
       "      <td>NaN</td>\n",
       "      <td>NaN</td>\n",
       "      <td>NaN</td>\n",
       "      <td>NaN</td>\n",
       "    </tr>\n",
       "    <tr>\n",
       "      <th>1308</th>\n",
       "      <td>2023-04-13</td>\n",
       "      <td>Detroit Red Wings</td>\n",
       "      <td>NaN</td>\n",
       "      <td>Tampa Bay Lightning</td>\n",
       "      <td>NaN</td>\n",
       "      <td>NaN</td>\n",
       "      <td>NaN</td>\n",
       "      <td>NaN</td>\n",
       "      <td>NaN</td>\n",
       "    </tr>\n",
       "    <tr>\n",
       "      <th>1309</th>\n",
       "      <td>2023-04-13</td>\n",
       "      <td>New Jersey Devils</td>\n",
       "      <td>NaN</td>\n",
       "      <td>Washington Capitals</td>\n",
       "      <td>NaN</td>\n",
       "      <td>NaN</td>\n",
       "      <td>NaN</td>\n",
       "      <td>NaN</td>\n",
       "      <td>NaN</td>\n",
       "    </tr>\n",
       "    <tr>\n",
       "      <th>1310</th>\n",
       "      <td>2023-04-14</td>\n",
       "      <td>Buffalo Sabres</td>\n",
       "      <td>NaN</td>\n",
       "      <td>Columbus Blue Jackets</td>\n",
       "      <td>NaN</td>\n",
       "      <td>NaN</td>\n",
       "      <td>NaN</td>\n",
       "      <td>NaN</td>\n",
       "      <td>NaN</td>\n",
       "    </tr>\n",
       "    <tr>\n",
       "      <th>1311</th>\n",
       "      <td>2023-04-14</td>\n",
       "      <td>Colorado Avalanche</td>\n",
       "      <td>NaN</td>\n",
       "      <td>Nashville Predators</td>\n",
       "      <td>NaN</td>\n",
       "      <td>NaN</td>\n",
       "      <td>NaN</td>\n",
       "      <td>NaN</td>\n",
       "      <td>NaN</td>\n",
       "    </tr>\n",
       "  </tbody>\n",
       "</table>\n",
       "</div>"
      ],
      "text/plain": [
       "            Date               Visitor   G                   Home  G.1  \\\n",
       "1307  2023-04-13  Vegas Golden Knights NaN         Seattle Kraken  NaN   \n",
       "1308  2023-04-13     Detroit Red Wings NaN    Tampa Bay Lightning  NaN   \n",
       "1309  2023-04-13     New Jersey Devils NaN    Washington Capitals  NaN   \n",
       "1310  2023-04-14        Buffalo Sabres NaN  Columbus Blue Jackets  NaN   \n",
       "1311  2023-04-14    Colorado Avalanche NaN    Nashville Predators  NaN   \n",
       "\n",
       "     Decision  Att.  LOG Notes  \n",
       "1307      NaN   NaN  NaN   NaN  \n",
       "1308      NaN   NaN  NaN   NaN  \n",
       "1309      NaN   NaN  NaN   NaN  \n",
       "1310      NaN   NaN  NaN   NaN  \n",
       "1311      NaN   NaN  NaN   NaN  "
      ]
     },
     "execution_count": 118,
     "metadata": {},
     "output_type": "execute_result"
    }
   ],
   "source": [
    "df.tail()"
   ]
  },
  {
   "attachments": {},
   "cell_type": "markdown",
   "metadata": {},
   "source": [
    "Looking at the head of this DataFrame, we can see that we're only working with a few columns.\n",
    "\n",
    "Let's name a few of these so that they are more descriptive and clear.\n",
    "\n"
   ]
  },
  {
   "cell_type": "code",
   "execution_count": 119,
   "metadata": {},
   "outputs": [
    {
     "data": {
      "text/html": [
       "<div>\n",
       "<style scoped>\n",
       "    .dataframe tbody tr th:only-of-type {\n",
       "        vertical-align: middle;\n",
       "    }\n",
       "\n",
       "    .dataframe tbody tr th {\n",
       "        vertical-align: top;\n",
       "    }\n",
       "\n",
       "    .dataframe thead th {\n",
       "        text-align: right;\n",
       "    }\n",
       "</style>\n",
       "<table border=\"1\" class=\"dataframe\">\n",
       "  <thead>\n",
       "    <tr style=\"text-align: right;\">\n",
       "      <th></th>\n",
       "      <th>Date</th>\n",
       "      <th>Visiting_Team</th>\n",
       "      <th>Visiting_Team_Goals</th>\n",
       "      <th>Home_Team</th>\n",
       "      <th>Home_Team_Goals</th>\n",
       "      <th>Decision</th>\n",
       "      <th>Attendance</th>\n",
       "      <th>Game_Length</th>\n",
       "      <th>Notes</th>\n",
       "    </tr>\n",
       "  </thead>\n",
       "  <tbody>\n",
       "    <tr>\n",
       "      <th>0</th>\n",
       "      <td>2022-10-07</td>\n",
       "      <td>San Jose Sharks</td>\n",
       "      <td>1.0</td>\n",
       "      <td>Nashville Predators</td>\n",
       "      <td>4.0</td>\n",
       "      <td>NaN</td>\n",
       "      <td>16648.0</td>\n",
       "      <td>2:43</td>\n",
       "      <td>at (Prague CZ)</td>\n",
       "    </tr>\n",
       "    <tr>\n",
       "      <th>1</th>\n",
       "      <td>2022-10-08</td>\n",
       "      <td>Nashville Predators</td>\n",
       "      <td>3.0</td>\n",
       "      <td>San Jose Sharks</td>\n",
       "      <td>2.0</td>\n",
       "      <td>NaN</td>\n",
       "      <td>17023.0</td>\n",
       "      <td>2:33</td>\n",
       "      <td>at (Prague CZ)</td>\n",
       "    </tr>\n",
       "    <tr>\n",
       "      <th>2</th>\n",
       "      <td>2022-10-11</td>\n",
       "      <td>Vegas Golden Knights</td>\n",
       "      <td>4.0</td>\n",
       "      <td>Los Angeles Kings</td>\n",
       "      <td>3.0</td>\n",
       "      <td>NaN</td>\n",
       "      <td>18230.0</td>\n",
       "      <td>2:31</td>\n",
       "      <td>NaN</td>\n",
       "    </tr>\n",
       "    <tr>\n",
       "      <th>3</th>\n",
       "      <td>2022-10-11</td>\n",
       "      <td>Tampa Bay Lightning</td>\n",
       "      <td>1.0</td>\n",
       "      <td>New York Rangers</td>\n",
       "      <td>3.0</td>\n",
       "      <td>NaN</td>\n",
       "      <td>18006.0</td>\n",
       "      <td>2:21</td>\n",
       "      <td>NaN</td>\n",
       "    </tr>\n",
       "    <tr>\n",
       "      <th>4</th>\n",
       "      <td>2022-10-12</td>\n",
       "      <td>Seattle Kraken</td>\n",
       "      <td>4.0</td>\n",
       "      <td>Anaheim Ducks</td>\n",
       "      <td>5.0</td>\n",
       "      <td>OT</td>\n",
       "      <td>17530.0</td>\n",
       "      <td>2:28</td>\n",
       "      <td>NaN</td>\n",
       "    </tr>\n",
       "  </tbody>\n",
       "</table>\n",
       "</div>"
      ],
      "text/plain": [
       "         Date         Visiting_Team  Visiting_Team_Goals            Home_Team  \\\n",
       "0  2022-10-07       San Jose Sharks                  1.0  Nashville Predators   \n",
       "1  2022-10-08   Nashville Predators                  3.0      San Jose Sharks   \n",
       "2  2022-10-11  Vegas Golden Knights                  4.0    Los Angeles Kings   \n",
       "3  2022-10-11   Tampa Bay Lightning                  1.0     New York Rangers   \n",
       "4  2022-10-12        Seattle Kraken                  4.0        Anaheim Ducks   \n",
       "\n",
       "   Home_Team_Goals Decision  Attendance Game_Length           Notes  \n",
       "0              4.0      NaN     16648.0        2:43  at (Prague CZ)  \n",
       "1              2.0      NaN     17023.0        2:33  at (Prague CZ)  \n",
       "2              3.0      NaN     18230.0        2:31             NaN  \n",
       "3              3.0      NaN     18006.0        2:21             NaN  \n",
       "4              5.0       OT     17530.0        2:28             NaN  "
      ]
     },
     "execution_count": 119,
     "metadata": {},
     "output_type": "execute_result"
    }
   ],
   "source": [
    "df.columns = [\"Date\", \"Visiting_Team\", \"Visiting_Team_Goals\", \"Home_Team\", \"Home_Team_Goals\", \"Decision\", \"Attendance\", \"Game_Length\", \"Notes\"]\n",
    "\n",
    "df.head()"
   ]
  },
  {
   "cell_type": "code",
   "execution_count": 120,
   "metadata": {},
   "outputs": [
    {
     "data": {
      "text/html": [
       "<div>\n",
       "<style scoped>\n",
       "    .dataframe tbody tr th:only-of-type {\n",
       "        vertical-align: middle;\n",
       "    }\n",
       "\n",
       "    .dataframe tbody tr th {\n",
       "        vertical-align: top;\n",
       "    }\n",
       "\n",
       "    .dataframe thead th {\n",
       "        text-align: right;\n",
       "    }\n",
       "</style>\n",
       "<table border=\"1\" class=\"dataframe\">\n",
       "  <thead>\n",
       "    <tr style=\"text-align: right;\">\n",
       "      <th></th>\n",
       "      <th>Date</th>\n",
       "      <th>Visiting_Team</th>\n",
       "      <th>Visiting_Team_Goals</th>\n",
       "      <th>Home_Team</th>\n",
       "      <th>Home_Team_Goals</th>\n",
       "      <th>Decision</th>\n",
       "      <th>Attendance</th>\n",
       "      <th>Game_Length</th>\n",
       "      <th>Notes</th>\n",
       "    </tr>\n",
       "  </thead>\n",
       "  <tbody>\n",
       "    <tr>\n",
       "      <th>1307</th>\n",
       "      <td>2023-04-13</td>\n",
       "      <td>Vegas Golden Knights</td>\n",
       "      <td>NaN</td>\n",
       "      <td>Seattle Kraken</td>\n",
       "      <td>NaN</td>\n",
       "      <td>NaN</td>\n",
       "      <td>NaN</td>\n",
       "      <td>NaN</td>\n",
       "      <td>NaN</td>\n",
       "    </tr>\n",
       "    <tr>\n",
       "      <th>1308</th>\n",
       "      <td>2023-04-13</td>\n",
       "      <td>Detroit Red Wings</td>\n",
       "      <td>NaN</td>\n",
       "      <td>Tampa Bay Lightning</td>\n",
       "      <td>NaN</td>\n",
       "      <td>NaN</td>\n",
       "      <td>NaN</td>\n",
       "      <td>NaN</td>\n",
       "      <td>NaN</td>\n",
       "    </tr>\n",
       "    <tr>\n",
       "      <th>1309</th>\n",
       "      <td>2023-04-13</td>\n",
       "      <td>New Jersey Devils</td>\n",
       "      <td>NaN</td>\n",
       "      <td>Washington Capitals</td>\n",
       "      <td>NaN</td>\n",
       "      <td>NaN</td>\n",
       "      <td>NaN</td>\n",
       "      <td>NaN</td>\n",
       "      <td>NaN</td>\n",
       "    </tr>\n",
       "    <tr>\n",
       "      <th>1310</th>\n",
       "      <td>2023-04-14</td>\n",
       "      <td>Buffalo Sabres</td>\n",
       "      <td>NaN</td>\n",
       "      <td>Columbus Blue Jackets</td>\n",
       "      <td>NaN</td>\n",
       "      <td>NaN</td>\n",
       "      <td>NaN</td>\n",
       "      <td>NaN</td>\n",
       "      <td>NaN</td>\n",
       "    </tr>\n",
       "    <tr>\n",
       "      <th>1311</th>\n",
       "      <td>2023-04-14</td>\n",
       "      <td>Colorado Avalanche</td>\n",
       "      <td>NaN</td>\n",
       "      <td>Nashville Predators</td>\n",
       "      <td>NaN</td>\n",
       "      <td>NaN</td>\n",
       "      <td>NaN</td>\n",
       "      <td>NaN</td>\n",
       "      <td>NaN</td>\n",
       "    </tr>\n",
       "  </tbody>\n",
       "</table>\n",
       "</div>"
      ],
      "text/plain": [
       "            Date         Visiting_Team  Visiting_Team_Goals  \\\n",
       "1307  2023-04-13  Vegas Golden Knights                  NaN   \n",
       "1308  2023-04-13     Detroit Red Wings                  NaN   \n",
       "1309  2023-04-13     New Jersey Devils                  NaN   \n",
       "1310  2023-04-14        Buffalo Sabres                  NaN   \n",
       "1311  2023-04-14    Colorado Avalanche                  NaN   \n",
       "\n",
       "                  Home_Team  Home_Team_Goals Decision  Attendance Game_Length  \\\n",
       "1307         Seattle Kraken              NaN      NaN         NaN         NaN   \n",
       "1308    Tampa Bay Lightning              NaN      NaN         NaN         NaN   \n",
       "1309    Washington Capitals              NaN      NaN         NaN         NaN   \n",
       "1310  Columbus Blue Jackets              NaN      NaN         NaN         NaN   \n",
       "1311    Nashville Predators              NaN      NaN         NaN         NaN   \n",
       "\n",
       "     Notes  \n",
       "1307   NaN  \n",
       "1308   NaN  \n",
       "1309   NaN  \n",
       "1310   NaN  \n",
       "1311   NaN  "
      ]
     },
     "execution_count": 120,
     "metadata": {},
     "output_type": "execute_result"
    }
   ],
   "source": [
    "df.tail()"
   ]
  },
  {
   "attachments": {},
   "cell_type": "markdown",
   "metadata": {},
   "source": [
    "Now we can see that we have:\n",
    "\n",
    "<ul>\n",
    "    <li>Index: Game number for the season</li>\n",
    "    <li>Date: Date of game, YYYY-MM-DD format</li>\n",
    "    <li>Visiting_Team: The name of the visiting team</li>\n",
    "    <li>Visiting_Team_Goals: Goals scored by the visiting team</li>\n",
    "    <li>Home_Team: The name of the home team</li>\n",
    "    <li>Home_Team_Goals: Goals scored by the home team</li>\n",
    "    <li>Decision: Initially this is blank if the result of the game was determined in regulation.  If the game had to go to overtime or the shootout, this is noted in this column</li>\n",
    "    <li>Attendance: Number of people attending the game in person</li>\n",
    "    <li>Game_Length: Length of game, H:MM format </li>\n",
    "    <li>Notes: Specific notes related to game.  This is typically blank.  This is used to note if a game was played in an atypical arena.  In the head() call, we can see that games at index 0 and 1 were played in Prague, CZ.</li>\n",
    "</ul>\n",
    "\n",
    "Note that in the tail, there are a lot of fields labeled \"NaN\" or \"Not a Number\".  This is because these games are part of the 2022-2023 season, but they are for a future date and no gameplay data exists for these games yet.\n",
    "\n",
    "<hr>\n",
    "\n",
    "## 3. Numeric Data\n",
    "\n",
    "Let's take a look at some of the numeric data in our new dataframe, starting with the goals scored by the home team in games so far in the 2022-2023 season."
   ]
  },
  {
   "cell_type": "code",
   "execution_count": 121,
   "metadata": {},
   "outputs": [
    {
     "data": {
      "text/plain": [
       "count    879.00\n",
       "mean       3.21\n",
       "std        1.69\n",
       "min        0.00\n",
       "25%        2.00\n",
       "50%        3.00\n",
       "75%        4.00\n",
       "max        9.00\n",
       "Name: Home_Team_Goals, dtype: float64"
      ]
     },
     "execution_count": 121,
     "metadata": {},
     "output_type": "execute_result"
    }
   ],
   "source": [
    "(df.Home_Team_Goals).describe()"
   ]
  },
  {
   "cell_type": "code",
   "execution_count": 122,
   "metadata": {},
   "outputs": [
    {
     "data": {
      "text/plain": [
       "count    879.00\n",
       "mean       3.10\n",
       "std        1.72\n",
       "min        0.00\n",
       "25%        2.00\n",
       "50%        3.00\n",
       "75%        4.00\n",
       "max        9.00\n",
       "Name: Visiting_Team_Goals, dtype: float64"
      ]
     },
     "execution_count": 122,
     "metadata": {},
     "output_type": "execute_result"
    }
   ],
   "source": [
    "(df.Visiting_Team_Goals).describe()"
   ]
  },
  {
   "attachments": {},
   "cell_type": "markdown",
   "metadata": {},
   "source": [
    "Above, we saw our tail() end with index 1311, informing us that there are 1312 total games in the season (the first row is indexed at 0).  In both of these examples where we describe the goals scored by the home or visiting team, the count is 879.  This is because only 879 games have numerical values (including 0) so far this season.  In other words, 879 out of 1312 have been played.  Rows without numerical value provided in these columns are omitted.  We can see that \"NaN\" is listed above for the games in the tail() output.\n",
    "\n",
    "The data between goals scored by the home team and goals scored by the visiting team are extremely similar.  The values for min, 25%, 50%, 75%, and max are all identical.  The standard deviation of goals scored by the visiting team is ever so slightly higher than that of goals scored by the home team.  The visiting team is at least slightly more volatile than the home team.  The mean goals scored by a visiting team (3.10 goals) is slightly lower than the mean goals scored by the home team (3.21 goals).  It it is often said that there is a \"home team advantage\" in sports.  This mean goals scored figure reinforces this, but only slightly.\n",
    "\n",
    "<hr>\n",
    "\n",
    "## 4. Attendance\n",
    "\n",
    "Let's examine data for attendance in games this season."
   ]
  },
  {
   "cell_type": "code",
   "execution_count": 123,
   "metadata": {},
   "outputs": [
    {
     "data": {
      "text/plain": [
       "count      879.00\n",
       "mean     17040.91\n",
       "std       2887.41\n",
       "min       4600.00\n",
       "25%      16407.00\n",
       "50%      17850.00\n",
       "75%      18532.00\n",
       "max      39243.00\n",
       "Name: Attendance, dtype: float64"
      ]
     },
     "execution_count": 123,
     "metadata": {},
     "output_type": "execute_result"
    }
   ],
   "source": [
    "(df.Attendance).describe()"
   ]
  },
  {
   "attachments": {},
   "cell_type": "markdown",
   "metadata": {},
   "source": [
    "Again, we see the same count of 879 games.  We are clearly working with much larger numbers than we were when reviewing data for scored goals.  A few things strike me as interesting.  The minimum attendance is significantly lower than 25%, 50%, 75%, and max.  Maximum attendance is also over twice as high as the 75% value.  The values for 25%, 50%, and 75% are all quite close with only 2125 separating the 25% value and 75% value.  The median value falls within this window as well, but on the low side.  All of this together makes me suspect that there is a large central concentration of attendance figures, with a significant number of outliers (particularly on the low end as we see the mean value falling below the 50% value).  A histogram may be helpful in visualizing this data."
   ]
  },
  {
   "cell_type": "code",
   "execution_count": 124,
   "metadata": {},
   "outputs": [
    {
     "data": {
      "image/png": "[encoded data removed]",
      "text/plain": [
       "<Figure size 640x480 with 1 Axes>"
      ]
     },
     "metadata": {},
     "output_type": "display_data"
    }
   ],
   "source": [
    "hist = df.Attendance.hist()"
   ]
  },
  {
   "attachments": {},
   "cell_type": "markdown",
   "metadata": {},
   "source": [
    "As we suspected, the majority of games seem to have attendance between that 16,400 - 18,532 range. There is a significant portion of games above 20,000 as well.  The X axis extends to 40,000.  We know there is a maximum attendance this year of 39,243.  The histogram makes this appear to be an anomoly, even compared to the number of games played with 10,000 or fewer fans in attendance.\n",
    "\n",
    "Fans of the NHL may be aware that the Arizona Coyotes are currently not playing in an arena that is typical of a major league sports team.  Instead, they are currently playing their home games at Arizona State University's Mullet Arena which seats only 5,025.  Let's examine attendance data for Coyote's home games only, and then data for all games except for Coyote's home games."
   ]
  },
  {
   "cell_type": "code",
   "execution_count": 125,
   "metadata": {},
   "outputs": [
    {
     "data": {
      "text/plain": [
       "count      22.0\n",
       "mean     4600.0\n",
       "std         0.0\n",
       "min      4600.0\n",
       "25%      4600.0\n",
       "50%      4600.0\n",
       "75%      4600.0\n",
       "max      4600.0\n",
       "Name: Attendance, dtype: float64"
      ]
     },
     "execution_count": 125,
     "metadata": {},
     "output_type": "execute_result"
    }
   ],
   "source": [
    "coyote_games = df[df.Home_Team == 'Arizona Coyotes']\n",
    "\n",
    "coyote_games.Attendance.describe()"
   ]
  },
  {
   "attachments": {},
   "cell_type": "markdown",
   "metadata": {},
   "source": [
    "Evidently, all Arizona Coyote's home games have had identical attendance at 4,600.  There is 0.0 standard deviation in this value.  It would seem that all Arizona Coyote home games have sold out and only 4,600 tickets are available.  Even the worst-attended teams (and the Coyotes <em>would</em> traditionally be among them) have at least 9,500 fans in attendance, so it is not unusual to think that an NHL team would consistently sell 4,600 tickets.\n",
    "\n",
    "Now let's look at games held at other arenas."
   ]
  },
  {
   "cell_type": "code",
   "execution_count": 126,
   "metadata": {},
   "outputs": [
    {
     "data": {
      "text/plain": [
       "count      857.00\n",
       "mean     17360.28\n",
       "std       2114.56\n",
       "min       9673.00\n",
       "25%      16514.00\n",
       "50%      17875.00\n",
       "75%      18532.00\n",
       "max      39243.00\n",
       "Name: Attendance, dtype: float64"
      ]
     },
     "execution_count": 126,
     "metadata": {},
     "output_type": "execute_result"
    }
   ],
   "source": [
    "other_games = df[df.Home_Team != 'Arizona Coyotes']\n",
    "\n",
    "other_games.Attendance.describe()"
   ]
  },
  {
   "attachments": {},
   "cell_type": "markdown",
   "metadata": {},
   "source": [
    "We can see quickly that our data is less disperse once Coyote's home games are ommitted.  The standard deviation in attendance fell from 2887.41 down to 2114.56.  The mean has risen to be within 515 of the 50% mark (previously 810 away).  Here is a histogram of this data."
   ]
  },
  {
   "cell_type": "code",
   "execution_count": 127,
   "metadata": {},
   "outputs": [
    {
     "data": {
      "image/png": "[encoded data removed]",
      "text/plain": [
       "<Figure size 640x480 with 1 Axes>"
      ]
     },
     "metadata": {},
     "output_type": "display_data"
    }
   ],
   "source": [
    "hist = other_games.Attendance.hist()"
   ]
  },
  {
   "attachments": {},
   "cell_type": "markdown",
   "metadata": {},
   "source": [
    "This is a similar shape to before, but the outliers on the low end have been heavily mitigated.  The same upper outliers are still present.\n",
    "\n",
    "We can add a column that describes how well attended the games are.  We'll use three categories, separated by the 25% and 75% values (16,407 & 18,532)."
   ]
  },
  {
   "cell_type": "code",
   "execution_count": 128,
   "metadata": {},
   "outputs": [
    {
     "data": {
      "text/plain": [
       "count      220.00\n",
       "mean     13390.80\n",
       "std       3278.68\n",
       "min       4600.00\n",
       "25%      13111.00\n",
       "50%      14278.00\n",
       "75%      15565.00\n",
       "max      16402.00\n",
       "Name: Attendance, dtype: float64"
      ]
     },
     "execution_count": 128,
     "metadata": {},
     "output_type": "execute_result"
    }
   ],
   "source": [
    "low_attendance = df[df.Attendance < 16407]\n",
    "average_attendance = df.loc[(df.Attendance >= 16407) & (df.Attendance < 18532)]\n",
    "high_attendance = df[df.Attendance >= 18532]\n",
    "\n",
    "low_attendance.Attendance.describe()"
   ]
  },
  {
   "cell_type": "code",
   "execution_count": 129,
   "metadata": {},
   "outputs": [
    {
     "data": {
      "text/plain": [
       "count      429.00\n",
       "mean     17697.81\n",
       "std        540.70\n",
       "min      16412.00\n",
       "25%      17206.00\n",
       "50%      17850.00\n",
       "75%      18117.00\n",
       "max      18528.00\n",
       "Name: Attendance, dtype: float64"
      ]
     },
     "execution_count": 129,
     "metadata": {},
     "output_type": "execute_result"
    }
   ],
   "source": [
    "average_attendance.Attendance.describe()"
   ]
  },
  {
   "cell_type": "code",
   "execution_count": 130,
   "metadata": {},
   "outputs": [
    {
     "data": {
      "text/plain": [
       "count      230.00\n",
       "mean     19307.07\n",
       "std       1540.23\n",
       "min      18532.00\n",
       "25%      18679.25\n",
       "50%      18992.50\n",
       "75%      19471.00\n",
       "max      39243.00\n",
       "Name: Attendance, dtype: float64"
      ]
     },
     "execution_count": 130,
     "metadata": {},
     "output_type": "execute_result"
    }
   ],
   "source": [
    "high_attendance.Attendance.describe()"
   ]
  },
  {
   "attachments": {},
   "cell_type": "markdown",
   "metadata": {},
   "source": [
    "As we can see, the majority of games fall into the average attendance dataframe at 429 games.  Similar totals of games are on either side of this average attendance dataframe.  In the high attendance dataframe, we see that the average figures are still very far away from the maximum figure of 39,243.\n",
    "\n",
    "Each year, the NHL holds a special outdoor game called The Winter Classic.  These are typically held in baseball stadiums which can hold a far greater number of fans than a hockey rink.  A quick google search confirms that the Winter Classic attendance this season was 39,243.  Were any other games near this attendance?"
   ]
  },
  {
   "cell_type": "code",
   "execution_count": 131,
   "metadata": {},
   "outputs": [
    {
     "data": {
      "text/plain": [
       "count        1.0\n",
       "mean     39243.0\n",
       "std          NaN\n",
       "min      39243.0\n",
       "25%      39243.0\n",
       "50%      39243.0\n",
       "75%      39243.0\n",
       "max      39243.0\n",
       "Name: Attendance, dtype: float64"
      ]
     },
     "execution_count": 131,
     "metadata": {},
     "output_type": "execute_result"
    }
   ],
   "source": [
    "attendance_check = df[df.Attendance >= 35000]\n",
    "\n",
    "attendance_check.Attendance.describe()"
   ]
  },
  {
   "attachments": {},
   "cell_type": "markdown",
   "metadata": {},
   "source": [
    "No other games had at least 35,000 fans in attendance.  Let's check another boundary."
   ]
  },
  {
   "cell_type": "code",
   "execution_count": 132,
   "metadata": {},
   "outputs": [
    {
     "data": {
      "text/plain": [
       "count        1.0\n",
       "mean     39243.0\n",
       "std          NaN\n",
       "min      39243.0\n",
       "25%      39243.0\n",
       "50%      39243.0\n",
       "75%      39243.0\n",
       "max      39243.0\n",
       "Name: Attendance, dtype: float64"
      ]
     },
     "execution_count": 132,
     "metadata": {},
     "output_type": "execute_result"
    }
   ],
   "source": [
    "attendance_check = df[df.Attendance >= 30000]\n",
    "\n",
    "attendance_check.Attendance.describe()"
   ]
  },
  {
   "attachments": {},
   "cell_type": "markdown",
   "metadata": {},
   "source": [
    "The same is true for games with 30,000 or more fans."
   ]
  },
  {
   "cell_type": "code",
   "execution_count": 133,
   "metadata": {},
   "outputs": [
    {
     "data": {
      "text/plain": [
       "count        1.0\n",
       "mean     39243.0\n",
       "std          NaN\n",
       "min      39243.0\n",
       "25%      39243.0\n",
       "50%      39243.0\n",
       "75%      39243.0\n",
       "max      39243.0\n",
       "Name: Attendance, dtype: float64"
      ]
     },
     "execution_count": 133,
     "metadata": {},
     "output_type": "execute_result"
    }
   ],
   "source": [
    "attendance_check = df[df.Attendance >= 25000]\n",
    "\n",
    "attendance_check.Attendance.describe()"
   ]
  },
  {
   "attachments": {},
   "cell_type": "markdown",
   "metadata": {},
   "source": [
    "The Winter Classic has also been the only game above 25,000 in attendance.  Let's continue until we find another game."
   ]
  },
  {
   "cell_type": "code",
   "execution_count": 134,
   "metadata": {},
   "outputs": [
    {
     "data": {
      "text/plain": [
       "count       35.00\n",
       "mean     21471.74\n",
       "std       3111.54\n",
       "min      20016.00\n",
       "25%      21105.00\n",
       "50%      21105.00\n",
       "75%      21105.00\n",
       "max      39243.00\n",
       "Name: Attendance, dtype: float64"
      ]
     },
     "execution_count": 134,
     "metadata": {},
     "output_type": "execute_result"
    }
   ],
   "source": [
    "attendance_check = df[df.Attendance >= 20000]\n",
    "\n",
    "attendance_check.Attendance.describe()"
   ]
  },
  {
   "attachments": {},
   "cell_type": "markdown",
   "metadata": {},
   "source": [
    "Other than The Winter Classic, only 34 games have had attendance of at least 20,000 fans.  The 25%, 50%, and 75% figures are all the same.  After seeing the data for the Arizona Coyotes, I'm tempted to assume that one of the NHL arenas seats 21,105 fans and has been sold out many times this season.  Reviewing NHL arenas by capacity on Wikipedia (https://en.wikipedia.org/wiki/List_of_ice_hockey_arenas_by_capacity) we see that the Montreal Canadiens' arena seats 21,105."
   ]
  },
  {
   "cell_type": "markdown",
   "metadata": {},
   "source": [
    "## 4. Home Team Advantage"
   ]
  },
  {
   "attachments": {},
   "cell_type": "markdown",
   "metadata": {},
   "source": [
    "Earlier, when viewing the data related to goals scored, we saw that there is the slightest bit of evidence pointing to a true \"home field advantage\".  Let's explore other data to see if we can find more evidence of this.\n",
    "\n",
    "To start, we should add a column to our dataframe to describe the winner of the game, the home team or the visiting team."
   ]
  },
  {
   "cell_type": "code",
   "execution_count": 135,
   "metadata": {},
   "outputs": [
    {
     "name": "stderr",
     "output_type": "stream",
     "text": [
      "C:\\Users\\timgo\\AppData\\Local\\Temp\\ipykernel_6492\\2746269034.py:2: FutureWarning: The default dtype for empty Series will be 'object' instead of 'float64' in a future version. Specify a dtype explicitly to silence this warning.\n",
      "  df['Winner'] = pd.Series()\n"
     ]
    },
    {
     "data": {
      "text/plain": [
       "count           879\n",
       "unique            2\n",
       "top       Home Team\n",
       "freq            462\n",
       "Name: Winner, dtype: object"
      ]
     },
     "execution_count": 135,
     "metadata": {},
     "output_type": "execute_result"
    }
   ],
   "source": [
    "# add an empty column to place our results\n",
    "df['Winner'] = pd.Series()\n",
    "\n",
    "# where home team goals are greater than visiting goals, the home team won\n",
    "df['Winner'].where(~(df['Home_Team_Goals'] > df['Visiting_Team_Goals']), other=\"Home Team\", inplace=True)\n",
    "\n",
    "# where visiting team goals are greater than home goals, the visiting team won\n",
    "df['Winner'].where(~(df['Visiting_Team_Goals'] > df['Home_Team_Goals']), other=\"Visiting Team\", inplace=True)\n",
    "\n",
    "df.Winner.describe()"
   ]
  },
  {
   "attachments": {},
   "cell_type": "markdown",
   "metadata": {},
   "source": [
    "Now that we've made category data that describes the winner of a game, we can describe it.  Out of 879 games played, 462 have been won by the home team.  52.55% of games have been won by the home team.  This seems to me to be a more significant figure than home teams scoring slightly greater numbers of goals on average than visiting teams."
   ]
  },
  {
   "cell_type": "code",
   "execution_count": 136,
   "metadata": {},
   "outputs": [
    {
     "data": {
      "image/png": "[encoded data removed]",
      "text/plain": [
       "<Figure size 640x480 with 1 Axes>"
      ]
     },
     "metadata": {},
     "output_type": "display_data"
    }
   ],
   "source": [
    "hist = df.Winner.hist()"
   ]
  },
  {
   "attachments": {},
   "cell_type": "markdown",
   "metadata": {},
   "source": [
    "A histogram shows that home teams win significantly more games than visiting teams."
   ]
  }
 ],
 "metadata": {
  "kernelspec": {
   "display_name": "Python 3",
   "language": "python",
   "name": "python3"
  },
  "language_info": {
   "codemirror_mode": {
    "name": "ipython",
    "version": 3
   },
   "file_extension": ".py",
   "mimetype": "text/x-python",
   "name": "python",
   "nbconvert_exporter": "python",
   "pygments_lexer": "ipython3",
   "version": "3.9.5"
  },
  "orig_nbformat": 4,
  "vscode": {
   "interpreter": {
    "hash": "2b456febbdea95e274b2606f647c8b582c2aac76460c395c2cbe82f872a5e48e"
   }
  }
 },
 "nbformat": 4,
 "nbformat_minor": 2
}
