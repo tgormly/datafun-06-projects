{
 "cells": [
  {
   "cell_type": "markdown",
   "metadata": {},
   "source": [
    "# Subject Matter\n",
    "\n",
    "\n",
    "<hr>\n",
    "\n",
    "\n",
    "## Task 3 - Exploratory Data Project\n",
    "#### Tim Gormly\n",
    "#### 2/18/2023"
   ]
  }
 ],
 "metadata": {
  "kernelspec": {
   "display_name": "Python 3",
   "language": "python",
   "name": "python3"
  },
  "language_info": {
   "name": "python",
   "version": "3.9.5"
  },
  "orig_nbformat": 4,
  "vscode": {
   "interpreter": {
    "hash": "2b456febbdea95e274b2606f647c8b582c2aac76460c395c2cbe82f872a5e48e"
   }
  }
 },
 "nbformat": 4,
 "nbformat_minor": 2
}
