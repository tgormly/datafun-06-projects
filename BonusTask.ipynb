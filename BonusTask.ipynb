{
 "cells": [
  {
   "attachments": {},
   "cell_type": "markdown",
   "metadata": {},
   "source": [
    "# Super 16 Word Cloud\n",
    "\n",
    "<hr>\n",
    "\n",
    "## Bonus Task - WordCloud Library\n",
    "#### Tim Gormly\n",
    "#### 2/18/2023\n",
    "\n",
    "<hr>\n",
    "\n",
    "<br>\n",
    "In this notebook, we will use the wordcloud library to analyze a regular article put out by the NHL, the Super 16.  In these weekly articles, several analysts give a list of the teams they believe to be the best 16 teams, ranked with the best team at #1, the second best team at #2, etc.  These lists are compiled to make a Super 16 list. The article gives brief reasonings for each teams' ranking.  The wordcloud library will be used to analyze the text in one of these articles so see if any trends emerge.\n",
    "<br>\n",
    "<br>\n",
    "\n",
    "<hr>"
   ]
  }
 ],
 "metadata": {
  "kernelspec": {
   "display_name": "Python 3",
   "language": "python",
   "name": "python3"
  },
  "language_info": {
   "name": "python",
   "version": "3.9.5"
  },
  "orig_nbformat": 4,
  "vscode": {
   "interpreter": {
    "hash": "2b456febbdea95e274b2606f647c8b582c2aac76460c395c2cbe82f872a5e48e"
   }
  }
 },
 "nbformat": 4,
 "nbformat_minor": 2
}
